{
 "cells": [
  {
   "cell_type": "markdown",
   "metadata": {},
   "source": [
    "Inspiration: http://stackoverflow.com/questions/36378328/monte-carlo-simulation-in-python-parallelization-using-ipyparallel-taking-longe."
   ]
  },
  {
   "cell_type": "code",
   "execution_count": 1,
   "metadata": {
    "collapsed": true
   },
   "outputs": [],
   "source": [
    "import matplotlib.pyplot as plt\n",
    "from mpl_toolkits.mplot3d import Axes3D\n",
    "import numpy as np\n",
    "from numpy.random import random as random"
   ]
  },
  {
   "cell_type": "code",
   "execution_count": 2,
   "metadata": {
    "collapsed": false
   },
   "outputs": [],
   "source": [
    "class Packet():   \n",
    "    \n",
    "    def __init__(self, r, k, W, mua, mus, npackets):\n",
    "        self.k = k\n",
    "        self.r = r\n",
    "        self.W = W\n",
    "        self.mua = mua\n",
    "        self.mus = mus\n",
    "        self.npackets = npackets\n",
    "        \n",
    "        \n",
    "    def absorb(self):\n",
    "        mut = self.mua + self.mus\n",
    "        dW = self.W * self.mua / mut\n",
    "        \n",
    "        self.W = self.W - dW\n",
    "        \n",
    "        return self.W\n",
    "\n",
    "    def HG(self,g):   # HG = Henyey-Greenstein function for dust scattering phase funcion\n",
    "        rand_theta = random(1)\n",
    "        costheta = 0.5*(1+g**2-((1-g**2)/(1-g + 2.*g*rand_theta))**2)/g  # costheta gives the scattering angle theta\n",
    "        return costheta\n",
    "\n",
    "    def scatter(self):\n",
    "        eps = 1.e-6\n",
    "        \n",
    "        # calculate new angle of scattering\n",
    "        phi = 2*np.pi*random(1)        # phi is azimuthal angle, it can be anywhere between 0 and 2pi\n",
    "        costheta = self.HG(0.85)   # it uses g = 0.85\n",
    "        sintheta = (1-costheta**2)**0.5  \n",
    "\n",
    "        sinphi = np.sin(phi) \n",
    "        cosphi = np.cos(phi)\n",
    "        \n",
    "        \n",
    "        # Equations for new direction of propagation\n",
    "        denom = (1-self.k[:,[2]]**2)**0.5\n",
    "        \n",
    "        # If the z-comp of direction is not close to 1:       \n",
    "        mux = sintheta*(self.k[:,[0]]*self.k[:,[2]]*cosphi-self.k[:,[1]]*sinphi)/denom + self.k[:,[0]]*costheta \n",
    "        muy = sintheta*(self.k[:,[1]]*self.k[:,[2]]*cosphi+self.k[:,[0]]*sinphi)/denom + self.k[:,[1]]*costheta\n",
    "        muz = -sintheta*cosphi*denom + self.k[:,[2]]*costheta\n",
    "        \n",
    "        # If the z-comp of direction is close to 1 and >= 0:\n",
    "        ones = np.ones(mux.shape)        # I multiply by a matrix of ones to make it have the same dimensions as mux\n",
    "        mux2 = sintheta*cosphi * ones\n",
    "        muy2 = sintheta*sinphi * ones\n",
    "        muz2 = costheta * ones\n",
    "        \n",
    "        # If the z-comp of direction is close to 1 and < 0:\n",
    "        muy3 = -sintheta*sinphi * ones\n",
    "        muz3 = -costheta * ones\n",
    "            \n",
    "        new_dir = np.where(denom > eps, (mux, muy, muz),\n",
    "                  np.where(self.k[:,[2]]>= 0., (mux2, muy2, muz2), (mux2, muy3, muz3)))\n",
    "\n",
    "        new_dir = np.transpose(new_dir[:,:,0])   \n",
    "\n",
    "        \n",
    "        # update the new direction of the packet \n",
    "        self.k[:,[0]] = new_dir[:,[0]]\n",
    "        self.k[:,[1]] = new_dir[:,[1]]\n",
    "        self.k[:,[2]] = new_dir[:,[2]]       \n",
    "\n",
    "        return self.k  # returns updated direction of packet\n",
    "\n",
    "    \n",
    "    def move(self):\n",
    "        # Determine step size L\n",
    "        ksi = random(1)\n",
    "        tau = -np.log(ksi)    # tau is optical depth\n",
    "        L = tau / self.mus         # L is distance travelled by packet     \n",
    "        \n",
    "        self.r[:,[0]] = self.r[:,[0]] + L*self.k[:,[0]] \n",
    "        self.r[:,[1]] = self.r[:,[1]] + L*self.k[:,[1]] \n",
    "        self.r[:,[2]] = self.r[:,[2]] + L*self.k[:,[2]] \n",
    "                \n",
    "        return self.r\n",
    "    \n",
    "    \n",
    "    def bins(self, thickness):         \n",
    "        eps = 1.e-6\n",
    "        \n",
    "        indices = []\n",
    "        reflected_r = []\n",
    "        transmitted_r = []\n",
    "        reflected_k = []\n",
    "        transmitted_k = []\n",
    "        reflected_W = []\n",
    "        transmitted_W = []\n",
    "        \n",
    "        # Check and delete the packets that exited the box or were completely absorbed\n",
    "        \n",
    "        for i in np.arange(self.npackets): \n",
    "            if self.r[i,2] > thickness:\n",
    "                indices.append(i)\n",
    "                transmitted_r.append(self.r[i,:])\n",
    "                transmitted_k.append(self.k[i,:])\n",
    "                transmitted_W.append(self.W[i,:])\n",
    "                \n",
    "            elif self.r[i,2] < 0.: \n",
    "                indices.append(i)\n",
    "                reflected_r.append(self.r[i,:])\n",
    "                reflected_k.append(self.k[i,:])\n",
    "                reflected_W.append(self.W[i,:])\n",
    "            \n",
    "            elif self.W[i] < eps:\n",
    "                indices.append(i)\n",
    "                     \n",
    "        for i in reversed(np.array(indices)):            \n",
    "            self.r = np.delete(self.r, i, axis=0)\n",
    "            self.k = np.delete(self.k, i, axis=0)\n",
    "            self.W = np.delete(self.W, i, axis=0)\n",
    "            self.npackets = len(self.r[:,[2]])\n",
    "        \n",
    "       \n",
    "        return (np.array(reflected_r), np.array(reflected_k), np.array(reflected_W), \n",
    "        np.array(transmitted_r), np.array(transmitted_k), np.array(transmitted_W))\n",
    "            "
   ]
  },
  {
   "cell_type": "code",
   "execution_count": 3,
   "metadata": {
    "collapsed": true
   },
   "outputs": [],
   "source": [
    "def initialize(npackets):\n",
    "\n",
    "    ksi = random((npackets, 1))    \n",
    "    costheta = np.sqrt(ksi)\n",
    "    phi = 2*np.pi*ksi\n",
    "    \n",
    "    # Initial position\n",
    "    r0 = np.zeros((npackets, 3))\n",
    "    r0[:,[0]] = random((npackets,1))\n",
    "    r0[:,[1]] = random((npackets,1))\n",
    "\n",
    "    # Initial direction\n",
    "    k0 = np.zeros((npackets, 3))\n",
    "    k0[:,[0]] = np.sin(np.arccos(costheta)) * np.cos(phi)\n",
    "    k0[:,[1]] = np.sin(np.arccos(costheta)) * np.sin(phi)\n",
    "    k0[:,[2]] = costheta\n",
    "    \n",
    "    # Initial weight\n",
    "    W0 = np.ones((npackets, 1)) * 0.001     # Figure out how to determine this\n",
    "    \n",
    "    # Absorption and scattering coefficients (figure out how to determine)\n",
    "    mua = 0.0001\n",
    "    mus = 0.01  \n",
    "    \n",
    "    return r0, k0, W0, mua, mus"
   ]
  },
  {
   "cell_type": "code",
   "execution_count": 4,
   "metadata": {
    "collapsed": false
   },
   "outputs": [
    {
     "name": "stdout",
     "output_type": "stream",
     "text": [
      "0\n"
     ]
    }
   ],
   "source": [
    "# Run photon packets in parallel plane geometry\n",
    "\n",
    "npackets = 2      # number of photon packets\n",
    "thickness = 10.    # thickness of sample\n",
    "\n",
    "r = initialize(npackets)[0]\n",
    "k = initialize(npackets)[1]\n",
    "W = initialize(npackets)[2]\n",
    "mua = initialize(npackets)[3]\n",
    "mus = initialize(npackets)[4]\n",
    "\n",
    "packet = Packet(r, k, W, mua, mus, npackets)\n",
    "\n",
    "while (packet.npackets > 0) :\n",
    "\n",
    "    r = Packet.move(packet)\n",
    "    \n",
    "    W = Packet.absorb(packet)\n",
    "\n",
    "    k = Packet.scatter(packet)\n",
    "    \n",
    "    bins = Packet.bins(packet, thickness)\n",
    "    print(packet.npackets)"
   ]
  },
  {
   "cell_type": "code",
   "execution_count": null,
   "metadata": {
    "collapsed": false
   },
   "outputs": [],
   "source": [
    "bins"
   ]
  }
 ],
 "metadata": {
  "kernelspec": {
   "display_name": "Python [Root]",
   "language": "python",
   "name": "Python [Root]"
  },
  "language_info": {
   "codemirror_mode": {
    "name": "ipython",
    "version": 3
   },
   "file_extension": ".py",
   "mimetype": "text/x-python",
   "name": "python",
   "nbconvert_exporter": "python",
   "pygments_lexer": "ipython3",
   "version": "3.5.2"
  }
 },
 "nbformat": 4,
 "nbformat_minor": 0
}
